{
 "cells": [
  {
   "cell_type": "code",
   "execution_count": 1,
   "metadata": {},
   "outputs": [],
   "source": [
    "import numpy as np\n",
    "import pandas as pd\n",
    "import matplotlib.pyplot as plt\n",
    "import seaborn as sns"
   ]
  },
  {
   "cell_type": "code",
   "execution_count": 2,
   "metadata": {},
   "outputs": [
    {
     "data": {
      "text/html": [
       "<div>\n",
       "<style scoped>\n",
       "    .dataframe tbody tr th:only-of-type {\n",
       "        vertical-align: middle;\n",
       "    }\n",
       "\n",
       "    .dataframe tbody tr th {\n",
       "        vertical-align: top;\n",
       "    }\n",
       "\n",
       "    .dataframe thead th {\n",
       "        text-align: right;\n",
       "    }\n",
       "</style>\n",
       "<table border=\"1\" class=\"dataframe\">\n",
       "  <thead>\n",
       "    <tr style=\"text-align: right;\">\n",
       "      <th></th>\n",
       "      <th>x</th>\n",
       "      <th>y</th>\n",
       "    </tr>\n",
       "  </thead>\n",
       "  <tbody>\n",
       "    <tr>\n",
       "      <th>0</th>\n",
       "      <td>1.795292</td>\n",
       "      <td>-1.565657</td>\n",
       "    </tr>\n",
       "    <tr>\n",
       "      <th>1</th>\n",
       "      <td>2.478943</td>\n",
       "      <td>-0.562540</td>\n",
       "    </tr>\n",
       "    <tr>\n",
       "      <th>2</th>\n",
       "      <td>1.480561</td>\n",
       "      <td>-0.032664</td>\n",
       "    </tr>\n",
       "    <tr>\n",
       "      <th>3</th>\n",
       "      <td>1.444270</td>\n",
       "      <td>-0.929006</td>\n",
       "    </tr>\n",
       "    <tr>\n",
       "      <th>4</th>\n",
       "      <td>3.965781</td>\n",
       "      <td>-0.482573</td>\n",
       "    </tr>\n",
       "    <tr>\n",
       "      <th>...</th>\n",
       "      <td>...</td>\n",
       "      <td>...</td>\n",
       "    </tr>\n",
       "    <tr>\n",
       "      <th>205</th>\n",
       "      <td>5.661055</td>\n",
       "      <td>-8.987552</td>\n",
       "    </tr>\n",
       "    <tr>\n",
       "      <th>206</th>\n",
       "      <td>4.564874</td>\n",
       "      <td>-13.666324</td>\n",
       "    </tr>\n",
       "    <tr>\n",
       "      <th>207</th>\n",
       "      <td>1.947881</td>\n",
       "      <td>4.514017</td>\n",
       "    </tr>\n",
       "    <tr>\n",
       "      <th>208</th>\n",
       "      <td>-6.550538</td>\n",
       "      <td>-15.872218</td>\n",
       "    </tr>\n",
       "    <tr>\n",
       "      <th>209</th>\n",
       "      <td>-5.652301</td>\n",
       "      <td>-7.327888</td>\n",
       "    </tr>\n",
       "  </tbody>\n",
       "</table>\n",
       "<p>210 rows × 2 columns</p>\n",
       "</div>"
      ],
      "text/plain": [
       "            x          y\n",
       "0    1.795292  -1.565657\n",
       "1    2.478943  -0.562540\n",
       "2    1.480561  -0.032664\n",
       "3    1.444270  -0.929006\n",
       "4    3.965781  -0.482573\n",
       "..        ...        ...\n",
       "205  5.661055  -8.987552\n",
       "206  4.564874 -13.666324\n",
       "207  1.947881   4.514017\n",
       "208 -6.550538 -15.872218\n",
       "209 -5.652301  -7.327888\n",
       "\n",
       "[210 rows x 2 columns]"
      ]
     },
     "execution_count": 2,
     "metadata": {},
     "output_type": "execute_result"
    }
   ],
   "source": [
    "np.random.seed(12345)\n",
    "x1 = np.random.normal(0, 1, 100)+2\n",
    "y1 = np.random.normal(0, 1, 100)\n",
    "\n",
    "x2 = np.random.normal(0, 1, 100)-2\n",
    "y2 = np.random.normal(0, 1, 100)\n",
    "\n",
    "x3 = np.random.normal(0, 1, 10)*10\n",
    "y3 = np.random.normal(0, 1, 10)*10\n",
    "\n",
    "x = np.concatenate((x1, x2, x3))\n",
    "y = np.concatenate((y1, y2, y3))\n",
    "\n",
    "data = np.stack((x, y), axis=1)\n",
    "\n",
    "df = pd.DataFrame(data=data, columns=['x', 'y'])\n",
    "df"
   ]
  },
  {
   "cell_type": "code",
   "execution_count": 3,
   "metadata": {},
   "outputs": [
    {
     "data": {
      "text/plain": [
       "<AxesSubplot:xlabel='x', ylabel='y'>"
      ]
     },
     "execution_count": 3,
     "metadata": {},
     "output_type": "execute_result"
    },
    {
     "data": {
      "image/png": "[encoded data removed]",
      "text/plain": [
       "<Figure size 720x432 with 1 Axes>"
      ]
     },
     "metadata": {
      "needs_background": "light"
     },
     "output_type": "display_data"
    }
   ],
   "source": [
    "plt.figure(figsize=(10, 6))\n",
    "sns.scatterplot(data=df, x='x', y='y')\n",
    "# 这里可以看出来有两个明显的类"
   ]
  },
  {
   "cell_type": "code",
   "execution_count": 4,
   "metadata": {},
   "outputs": [],
   "source": [
    "from sklearn.cluster import KMeans\n",
    "kmeans = KMeans(n_clusters=20)\n",
    "kmeans.fit(data)\n",
    "cls = kmeans.predict(data)"
   ]
  },
  {
   "cell_type": "code",
   "execution_count": 5,
   "metadata": {},
   "outputs": [
    {
     "data": {
      "text/plain": [
       "2     33\n",
       "8     27\n",
       "5     23\n",
       "17    21\n",
       "6     20\n",
       "15    18\n",
       "13    15\n",
       "18    12\n",
       "12    11\n",
       "0     10\n",
       "19    10\n",
       "14     2\n",
       "1      1\n",
       "10     1\n",
       "9      1\n",
       "7      1\n",
       "4      1\n",
       "16     1\n",
       "3      1\n",
       "11     1\n",
       "Name: cls, dtype: int64"
      ]
     },
     "execution_count": 5,
     "metadata": {},
     "output_type": "execute_result"
    }
   ],
   "source": [
    "df['cls'] = cls\n",
    "df.cls.value_counts()"
   ]
  },
  {
   "cell_type": "code",
   "execution_count": 6,
   "metadata": {},
   "outputs": [],
   "source": [
    "def clus_summary(df):\n",
    "    x_mean = df.x.mean()\n",
    "    y_mean = df.y.mean()\n",
    "    max_dist_from_seed = np.max(np.sqrt(np.square(df.x-x_mean)+np.square(df.y-y_mean)))\n",
    "    return pd.Series(data=[x_mean, y_mean, max_dist_from_seed], index=['x_mean', 'y_mean', 'max_dist_from_seed'])\n",
    "summary = df.groupby('cls').apply(clus_summary)\n",
    "\n",
    "x_mean = df.x.mean()\n",
    "y_mean = df.y.mean()\n",
    "summary['dist_between_cls'] = np.sqrt(np.square(summary.x_mean-x_mean)+np.square(summary.y_mean-y_mean))"
   ]
  },
  {
   "cell_type": "code",
   "execution_count": 7,
   "metadata": {},
   "outputs": [
    {
     "data": {
      "text/html": [
       "<div>\n",
       "<style scoped>\n",
       "    .dataframe tbody tr th:only-of-type {\n",
       "        vertical-align: middle;\n",
       "    }\n",
       "\n",
       "    .dataframe tbody tr th {\n",
       "        vertical-align: top;\n",
       "    }\n",
       "\n",
       "    .dataframe thead th {\n",
       "        text-align: right;\n",
       "    }\n",
       "</style>\n",
       "<table border=\"1\" class=\"dataframe\">\n",
       "  <thead>\n",
       "    <tr style=\"text-align: right;\">\n",
       "      <th></th>\n",
       "      <th>x_mean</th>\n",
       "      <th>y_mean</th>\n",
       "      <th>max_dist_from_seed</th>\n",
       "      <th>dist_between_cls</th>\n",
       "    </tr>\n",
       "    <tr>\n",
       "      <th>cls</th>\n",
       "      <th></th>\n",
       "      <th></th>\n",
       "      <th></th>\n",
       "      <th></th>\n",
       "    </tr>\n",
       "  </thead>\n",
       "  <tbody>\n",
       "    <tr>\n",
       "      <th>0</th>\n",
       "      <td>-0.721001</td>\n",
       "      <td>-0.563889</td>\n",
       "      <td>1.026923</td>\n",
       "      <td>0.926739</td>\n",
       "    </tr>\n",
       "    <tr>\n",
       "      <th>1</th>\n",
       "      <td>9.415712</td>\n",
       "      <td>31.768731</td>\n",
       "      <td>0.000000</td>\n",
       "      <td>33.219362</td>\n",
       "    </tr>\n",
       "    <tr>\n",
       "      <th>2</th>\n",
       "      <td>2.455382</td>\n",
       "      <td>-0.558251</td>\n",
       "      <td>1.247093</td>\n",
       "      <td>2.407050</td>\n",
       "    </tr>\n",
       "    <tr>\n",
       "      <th>3</th>\n",
       "      <td>-6.550538</td>\n",
       "      <td>-15.872218</td>\n",
       "      <td>0.000000</td>\n",
       "      <td>17.099485</td>\n",
       "    </tr>\n",
       "    <tr>\n",
       "      <th>4</th>\n",
       "      <td>4.564874</td>\n",
       "      <td>-13.666324</td>\n",
       "      <td>0.000000</td>\n",
       "      <td>14.271534</td>\n",
       "    </tr>\n",
       "    <tr>\n",
       "      <th>5</th>\n",
       "      <td>-1.741138</td>\n",
       "      <td>0.645401</td>\n",
       "      <td>0.921176</td>\n",
       "      <td>1.982202</td>\n",
       "    </tr>\n",
       "    <tr>\n",
       "      <th>6</th>\n",
       "      <td>2.371436</td>\n",
       "      <td>1.103806</td>\n",
       "      <td>1.309899</td>\n",
       "      <td>2.586800</td>\n",
       "    </tr>\n",
       "    <tr>\n",
       "      <th>7</th>\n",
       "      <td>14.157532</td>\n",
       "      <td>-11.043763</td>\n",
       "      <td>0.000000</td>\n",
       "      <td>17.814420</td>\n",
       "    </tr>\n",
       "    <tr>\n",
       "      <th>8</th>\n",
       "      <td>-2.954208</td>\n",
       "      <td>-0.334688</td>\n",
       "      <td>1.524228</td>\n",
       "      <td>3.051716</td>\n",
       "    </tr>\n",
       "    <tr>\n",
       "      <th>9</th>\n",
       "      <td>-0.101153</td>\n",
       "      <td>-11.167421</td>\n",
       "      <td>0.000000</td>\n",
       "      <td>11.054432</td>\n",
       "    </tr>\n",
       "    <tr>\n",
       "      <th>10</th>\n",
       "      <td>5.333640</td>\n",
       "      <td>9.595325</td>\n",
       "      <td>0.000000</td>\n",
       "      <td>11.035563</td>\n",
       "    </tr>\n",
       "    <tr>\n",
       "      <th>11</th>\n",
       "      <td>-5.652301</td>\n",
       "      <td>-7.327888</td>\n",
       "      <td>0.000000</td>\n",
       "      <td>9.219547</td>\n",
       "    </tr>\n",
       "    <tr>\n",
       "      <th>12</th>\n",
       "      <td>-0.638730</td>\n",
       "      <td>1.945676</td>\n",
       "      <td>2.226093</td>\n",
       "      <td>2.185245</td>\n",
       "    </tr>\n",
       "    <tr>\n",
       "      <th>13</th>\n",
       "      <td>1.420860</td>\n",
       "      <td>-1.311277</td>\n",
       "      <td>0.942344</td>\n",
       "      <td>1.790056</td>\n",
       "    </tr>\n",
       "    <tr>\n",
       "      <th>14</th>\n",
       "      <td>4.611859</td>\n",
       "      <td>-9.370475</td>\n",
       "      <td>1.116890</td>\n",
       "      <td>10.301540</td>\n",
       "    </tr>\n",
       "    <tr>\n",
       "      <th>15</th>\n",
       "      <td>0.870154</td>\n",
       "      <td>0.324245</td>\n",
       "      <td>1.129402</td>\n",
       "      <td>0.895509</td>\n",
       "    </tr>\n",
       "    <tr>\n",
       "      <th>16</th>\n",
       "      <td>1.947881</td>\n",
       "      <td>4.514017</td>\n",
       "      <td>0.000000</td>\n",
       "      <td>4.987761</td>\n",
       "    </tr>\n",
       "    <tr>\n",
       "      <th>17</th>\n",
       "      <td>-2.034637</td>\n",
       "      <td>-1.037973</td>\n",
       "      <td>1.476423</td>\n",
       "      <td>2.316201</td>\n",
       "    </tr>\n",
       "    <tr>\n",
       "      <th>18</th>\n",
       "      <td>-3.373796</td>\n",
       "      <td>1.326214</td>\n",
       "      <td>1.332793</td>\n",
       "      <td>3.751122</td>\n",
       "    </tr>\n",
       "    <tr>\n",
       "      <th>19</th>\n",
       "      <td>3.829594</td>\n",
       "      <td>0.235783</td>\n",
       "      <td>1.424232</td>\n",
       "      <td>3.756409</td>\n",
       "    </tr>\n",
       "  </tbody>\n",
       "</table>\n",
       "</div>"
      ],
      "text/plain": [
       "        x_mean     y_mean  max_dist_from_seed  dist_between_cls\n",
       "cls                                                            \n",
       "0    -0.721001  -0.563889            1.026923          0.926739\n",
       "1     9.415712  31.768731            0.000000         33.219362\n",
       "2     2.455382  -0.558251            1.247093          2.407050\n",
       "3    -6.550538 -15.872218            0.000000         17.099485\n",
       "4     4.564874 -13.666324            0.000000         14.271534\n",
       "5    -1.741138   0.645401            0.921176          1.982202\n",
       "6     2.371436   1.103806            1.309899          2.586800\n",
       "7    14.157532 -11.043763            0.000000         17.814420\n",
       "8    -2.954208  -0.334688            1.524228          3.051716\n",
       "9    -0.101153 -11.167421            0.000000         11.054432\n",
       "10    5.333640   9.595325            0.000000         11.035563\n",
       "11   -5.652301  -7.327888            0.000000          9.219547\n",
       "12   -0.638730   1.945676            2.226093          2.185245\n",
       "13    1.420860  -1.311277            0.942344          1.790056\n",
       "14    4.611859  -9.370475            1.116890         10.301540\n",
       "15    0.870154   0.324245            1.129402          0.895509\n",
       "16    1.947881   4.514017            0.000000          4.987761\n",
       "17   -2.034637  -1.037973            1.476423          2.316201\n",
       "18   -3.373796   1.326214            1.332793          3.751122\n",
       "19    3.829594   0.235783            1.424232          3.756409"
      ]
     },
     "execution_count": 7,
     "metadata": {},
     "output_type": "execute_result"
    }
   ],
   "source": [
    "summary"
   ]
  },
  {
   "cell_type": "code",
   "execution_count": 8,
   "metadata": {},
   "outputs": [
    {
     "data": {
      "image/png": "[encoded data removed]",
      "text/plain": [
       "<Figure size 720x864 with 2 Axes>"
      ]
     },
     "metadata": {
      "needs_background": "light"
     },
     "output_type": "display_data"
    }
   ],
   "source": [
    "fig, ax = plt.subplots(2,1, figsize=(10, 12))\n",
    "ax[0].scatter(df.cls.value_counts().sort_index().values, summary.dist_between_cls.values)\n",
    "ax[0].set_ylabel('dist_between_cls')\n",
    "ax[1].scatter(df.cls.value_counts().sort_index().values, summary.max_dist_from_seed.values)\n",
    "ax[1].set_ylabel('max_dist_from_seed')\n",
    "plt.show()"
   ]
  },
  {
   "cell_type": "markdown",
   "metadata": {},
   "source": [
    "### 从图中看，是定大于5为异常点，还是大于3为异常点呢？"
   ]
  }
 ],
 "metadata": {
  "kernelspec": {
   "display_name": "Python 3.9.6 64-bit",
   "language": "python",
   "name": "python3"
  },
  "language_info": {
   "codemirror_mode": {
    "name": "ipython",
    "version": 3
   },
   "file_extension": ".py",
   "mimetype": "text/x-python",
   "name": "python",
   "nbconvert_exporter": "python",
   "pygments_lexer": "ipython3",
   "version": "3.9.6"
  },
  "orig_nbformat": 4,
  "vscode": {
   "interpreter": {
    "hash": "7acb2566f01bf27888f586609b378558894aa82f04dc781041790cf6d0c45f57"
   }
  }
 },
 "nbformat": 4,
 "nbformat_minor": 2
}
